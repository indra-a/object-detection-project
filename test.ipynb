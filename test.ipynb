{
 "cells": [
  {
   "cell_type": "code",
   "execution_count": 1,
   "metadata": {},
   "outputs": [],
   "source": [
    "import torch\n",
    "from tqdm import tqdm\n",
    "from src.utils.mlflow_utils import log_metrics, log_params, log_model\n",
    "from src.data.data_preprocessing import ProjectDataPreprocessing\n",
    "from src.models.model_architecture import LenetModel\n",
    "import yaml\n",
    "\n",
    "device = torch.device(\"cuda:0\" if torch.cuda.is_available() else \"cpu\")"
   ]
  },
  {
   "cell_type": "code",
   "execution_count": 2,
   "metadata": {},
   "outputs": [],
   "source": [
    "with open(\"config.yaml\", \"r\") as f:\n",
    "    config = yaml.safe_load(f)"
   ]
  },
  {
   "cell_type": "code",
   "execution_count": 8,
   "metadata": {},
   "outputs": [],
   "source": [
    "data_processor = ProjectDataPreprocessing()"
   ]
  },
  {
   "cell_type": "code",
   "execution_count": 9,
   "metadata": {},
   "outputs": [],
   "source": [
    "train_loader, test_loader, val_loader = data_processor.preprocess_data(config)"
   ]
  },
  {
   "cell_type": "code",
   "execution_count": 5,
   "metadata": {},
   "outputs": [
    {
     "data": {
      "text/plain": [
       "torch.Size([32, 3, 224, 224])"
      ]
     },
     "execution_count": 5,
     "metadata": {},
     "output_type": "execute_result"
    }
   ],
   "source": [
    "next(iter(train_loader))[0].shape"
   ]
  },
  {
   "cell_type": "code",
   "execution_count": 6,
   "metadata": {},
   "outputs": [
    {
     "data": {
      "text/plain": [
       "torch.Size([32, 2])"
      ]
     },
     "execution_count": 6,
     "metadata": {},
     "output_type": "execute_result"
    }
   ],
   "source": [
    "next(iter(train_loader))[1].shape"
   ]
  },
  {
   "cell_type": "code",
   "execution_count": 4,
   "metadata": {},
   "outputs": [],
   "source": [
    "model = LenetModel(config)"
   ]
  },
  {
   "cell_type": "code",
   "execution_count": 5,
   "metadata": {},
   "outputs": [
    {
     "data": {
      "text/plain": [
       "==========================================================================================\n",
       "Layer (type:depth-idx)                   Output Shape              Param #\n",
       "==========================================================================================\n",
       "LenetModel                               [32, 2]                   --\n",
       "├─Sequential: 1-1                        [32, 2]                   --\n",
       "│    └─Conv2d: 2-1                       [32, 32, 222, 222]        2,432\n",
       "│    └─Tanh: 2-2                         [32, 32, 222, 222]        --\n",
       "│    └─AvgPool2d: 2-3                    [32, 32, 111, 111]        --\n",
       "│    └─Conv2d: 2-4                       [32, 64, 109, 109]        51,264\n",
       "│    └─Tanh: 2-5                         [32, 64, 109, 109]        --\n",
       "│    └─AvgPool2d: 2-6                    [32, 64, 54, 54]          --\n",
       "│    └─Conv2d: 2-7                       [32, 128, 52, 52]         204,928\n",
       "│    └─Tanh: 2-8                         [32, 128, 52, 52]         --\n",
       "│    └─AvgPool2d: 2-9                    [32, 128, 26, 26]         --\n",
       "│    └─Dropout: 2-10                     [32, 128, 26, 26]         --\n",
       "│    └─Flatten: 2-11                     [32, 86528]               --\n",
       "│    └─Linear: 2-12                      [32, 256]                 22,151,424\n",
       "│    └─ReLU: 2-13                        [32, 256]                 --\n",
       "│    └─Linear: 2-14                      [32, 2]                   514\n",
       "==========================================================================================\n",
       "Total params: 22,410,562\n",
       "Trainable params: 22,410,562\n",
       "Non-trainable params: 0\n",
       "Total mult-adds (G): 41.77\n",
       "==========================================================================================\n",
       "Input size (MB): 19.27\n",
       "Forward/backward pass size (MB): 687.06\n",
       "Params size (MB): 89.64\n",
       "Estimated Total Size (MB): 795.97\n",
       "=========================================================================================="
      ]
     },
     "execution_count": 5,
     "metadata": {},
     "output_type": "execute_result"
    }
   ],
   "source": [
    "from torchinfo import summary\n",
    "\n",
    "summary(model, input_size=(32, 3, 224, 224))"
   ]
  },
  {
   "cell_type": "code",
   "execution_count": 15,
   "metadata": {},
   "outputs": [],
   "source": [
    "def main(config, model, train_loader, test_loader):\n",
    "    \"\"\"\n",
    "    Trains input model given dataloaders, optimizer and loss function,\n",
    "    Tracking with MLFlow\n",
    "    \"\"\"\n",
    "    with mlflow.start_run():\n",
    "        mlflow.set_experiment(\"object-detection-project\")\n",
    "        log_params(config)\n",
    "\n",
    "        for epoch in tqdm(range(config['train']['num_epochs']), desc = 'Model training..' ):\n",
    "            loss = 0\n",
    "            train_loss = 0\n",
    "            for image, label in train_loader:\n",
    "                image = image.to(device)\n",
    "                label = label.to(device)\n",
    "                optimizer.zero_grad()\n",
    "                model.train()\n",
    "                outputs = model(image)\n",
    "                loss = loss_function(outputs, label)\n",
    "                loss.backward()\n",
    "                optimizer.step()\n",
    "                train_loss += loss * inputs.size(0)\n",
    "            train_loss=train_loss/len(train_loader.dataset)\n",
    "\n",
    "            loss = 0\n",
    "            val_loss = 0\n",
    "            with torch.inference_mode():\n",
    "                for image, label in val_loader:\n",
    "                    image = image.to(device)\n",
    "                    label = label.to(device)\n",
    "                    model.eval()\n",
    "                    outputs = model(image)\n",
    "                    loss = loss_function(outputs, label)\n",
    "                    val_loss += loss * inputs.size(0)\n",
    "                val_loss=val_loss/len(val_loader.dataset)\n",
    "                if val_loss < best_loss:\n",
    "                    print('Saving best model')\n",
    "                    torch.save(model.state_dict(), '../../models/{}.pt'.format(model_name))\n",
    "                    best_loss = val_loss\n",
    "            print(\"Epoch: {}/{}\".format(epoch, config['train']['epoch']))\n",
    "            print(\"Train loss: {}\")\n",
    "            log_metrics({\"train_loss\": train_loss,\n",
    "                         \"val_loss\": val_loss})\n",
    "            log_model(model, \"model\")\n",
    "            return model"
   ]
  },
  {
   "cell_type": "code",
   "execution_count": 11,
   "metadata": {},
   "outputs": [],
   "source": [
    "import mlflow"
   ]
  },
  {
   "cell_type": "code",
   "execution_count": 16,
   "metadata": {},
   "outputs": [
    {
     "name": "stderr",
     "output_type": "stream",
     "text": [
      "Model training..:   0%|          | 0/50 [00:01<?, ?it/s]\n"
     ]
    },
    {
     "ename": "NameError",
     "evalue": "name 'optimizer' is not defined",
     "output_type": "error",
     "traceback": [
      "\u001b[1;31m---------------------------------------------------------------------------\u001b[0m",
      "\u001b[1;31mNameError\u001b[0m                                 Traceback (most recent call last)",
      "Cell \u001b[1;32mIn[16], line 1\u001b[0m\n\u001b[1;32m----> 1\u001b[0m \u001b[43mmain\u001b[49m\u001b[43m(\u001b[49m\u001b[43mconfig\u001b[49m\u001b[43m,\u001b[49m\u001b[43m \u001b[49m\u001b[43mmodel\u001b[49m\u001b[43m,\u001b[49m\u001b[43m \u001b[49m\u001b[43mtrain_loader\u001b[49m\u001b[43m,\u001b[49m\u001b[43m \u001b[49m\u001b[43mtest_loader\u001b[49m\u001b[43m)\u001b[49m\n",
      "Cell \u001b[1;32mIn[15], line 16\u001b[0m, in \u001b[0;36mmain\u001b[1;34m(config, model, train_loader, test_loader)\u001b[0m\n\u001b[0;32m     14\u001b[0m image \u001b[38;5;241m=\u001b[39m image\u001b[38;5;241m.\u001b[39mto(device)\n\u001b[0;32m     15\u001b[0m label \u001b[38;5;241m=\u001b[39m label\u001b[38;5;241m.\u001b[39mto(device)\n\u001b[1;32m---> 16\u001b[0m \u001b[43moptimizer\u001b[49m\u001b[38;5;241m.\u001b[39mzero_grad()\n\u001b[0;32m     17\u001b[0m model\u001b[38;5;241m.\u001b[39mtrain()\n\u001b[0;32m     18\u001b[0m outputs \u001b[38;5;241m=\u001b[39m model(image)\n",
      "\u001b[1;31mNameError\u001b[0m: name 'optimizer' is not defined"
     ]
    }
   ],
   "source": [
    "main(config, model, train_loader, test_loader)"
   ]
  }
 ],
 "metadata": {
  "kernelspec": {
   "display_name": "env",
   "language": "python",
   "name": "python3"
  },
  "language_info": {
   "codemirror_mode": {
    "name": "ipython",
    "version": 3
   },
   "file_extension": ".py",
   "mimetype": "text/x-python",
   "name": "python",
   "nbconvert_exporter": "python",
   "pygments_lexer": "ipython3",
   "version": "3.10.0"
  }
 },
 "nbformat": 4,
 "nbformat_minor": 2
}
